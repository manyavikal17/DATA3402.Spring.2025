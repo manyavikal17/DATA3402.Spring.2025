{
 "cells": [
  {
   "cell_type": "markdown",
   "metadata": {},
   "source": [
    "## Lab 2- Tic Tac Toe\n",
    "\n",
    "In this lab your will build a n x n Tic Tac Toe game. As you do the exercises, make sure your solutions work for any size Tic Tac Toe game. "
   ]
  },
  {
   "cell_type": "markdown",
   "metadata": {},
   "source": [
    "*Exercise 1:* Write a function that creates an n by n matrix (of list of lists) which will represent the state of a Tie Tac Toe game. Let 0, 1, and 2 represent empty, \"X\", and \"O\", respectively.\n"
   ]
  },
  {
   "cell_type": "code",
   "execution_count": 8,
   "metadata": {},
   "outputs": [],
   "source": [
    "# Write you solution here\n",
    "\n",
    "X = 1\n",
    "O = 2\n",
    "empty = 0\n",
    "\n",
    "def create_board(n):\n",
    "    board = list()\n",
    "    for i in range(n):\n",
    "        board.append([empty]*n)\n",
    "        \n",
    "    return board\n"
   ]
  },
  {
   "cell_type": "code",
   "execution_count": 10,
   "metadata": {},
   "outputs": [
    {
     "data": {
      "text/plain": [
       "[[0, 0, 0], [0, 0, 0], [0, 0, 0]]"
      ]
     },
     "execution_count": 10,
     "metadata": {},
     "output_type": "execute_result"
    }
   ],
   "source": [
    "# Test your solution here\n",
    "\n",
    "board = create_board(3)\n",
    "board"
   ]
  },
  {
   "cell_type": "markdown",
   "metadata": {},
   "source": [
    "*Exercise 2:* Write a function that takes 2 integers `n` and `m` as input and draws a `n` by `m` game board. For example the following is a 3x3 board:\n",
    "```\n",
    "   --- --- --- \n",
    "  |   |   |   | \n",
    "   --- --- ---  \n",
    "  |   |   |   | \n",
    "   --- --- ---  \n",
    "  |   |   |   | \n",
    "   --- --- --- \n",
    "   ```"
   ]
  },
  {
   "cell_type": "code",
   "execution_count": 11,
   "metadata": {},
   "outputs": [],
   "source": [
    "# Write you solution here\n",
    "\n",
    "def draw_game_board(n, m):\n",
    "    for i in range(n):\n",
    "        print(\" \" + \"--- \" * m)\n",
    "        print(\" |\" + \"  |\" * m)\n",
    "    print(\" \" + \"--- \" * m)\n",
    "    "
   ]
  },
  {
   "cell_type": "code",
   "execution_count": 12,
   "metadata": {},
   "outputs": [
    {
     "name": "stdout",
     "output_type": "stream",
     "text": [
      " --- --- --- \n",
      " |  |  |  |\n",
      " --- --- --- \n",
      " |  |  |  |\n",
      " --- --- --- \n",
      " |  |  |  |\n",
      " --- --- --- \n"
     ]
    }
   ],
   "source": [
    "# Test your solution here\n",
    "\n",
    "draw_game_board(3,3)"
   ]
  },
  {
   "cell_type": "markdown",
   "metadata": {},
   "source": [
    "*Exercise 3:* Modify exercise 2, so that it takes a matrix of the form from exercise 1 and draws a tic-tac-tie board with \"X\"s and \"O\"s.  "
   ]
  },
  {
   "cell_type": "code",
   "execution_count": 16,
   "metadata": {},
   "outputs": [],
   "source": [
    "# Write you solution here\n",
    "\n",
    "def tictactoe_board(board):\n",
    "    symbol_map = {0: \" \", 1: \"X\", 2: \"O\"}\n",
    "    n = len(board)\n",
    "\n",
    "    for row in board:\n",
    "        print(\" \" + \"--- \" * n)\n",
    "        print(\" |\" + \"  |\".join(symbol_map[cell] for cell in row) + \" |\")\n",
    "    print(\" \" + \"--- \" * n)\n",
    "\n"
   ]
  },
  {
   "cell_type": "code",
   "execution_count": 17,
   "metadata": {},
   "outputs": [
    {
     "name": "stdout",
     "output_type": "stream",
     "text": [
      " --- --- --- \n",
      " |X  |O  |  |\n",
      " --- --- --- \n",
      " |   |O  |O |\n",
      " --- --- --- \n",
      " |O  |X  |X |\n",
      " --- --- --- \n"
     ]
    }
   ],
   "source": [
    "# Test your solution here\n",
    "board_0 = [[1, 2, 0],\n",
    "           [0, 2, 2],\n",
    "           [2, 1, 1]]\n",
    "tictactoe_board(board_0)"
   ]
  },
  {
   "cell_type": "markdown",
   "metadata": {},
   "source": [
    "*Exercise 4:* Write a function that takes a `n` by `n` matrix representing a tic-tac-toe game, and returns -1, 0, 1, or 2 indicating the game is incomplete, the game is a draw, player 1 has won, or player 2 has one, respectively. Here are some example inputs you can use to test your code:"
   ]
  },
  {
   "cell_type": "code",
   "execution_count": 37,
   "metadata": {},
   "outputs": [],
   "source": [
    "# Write you solution here\n",
    "\n",
    "def all_same(a_list):\n",
    "    return a_list[0] if len(set(a_list)) == 1 and a_list[0] != 0 else 0\n",
    "\n",
    "def check_winner(board):\n",
    "    n = len(board)\n",
    "    \n",
    "    for i in range(n):\n",
    "        if all_same(board[i]):\n",
    "            return board[i][0]\n",
    "        if all_same([board[j][i] for j in range(n)]):\n",
    "            return board[0][i]\n",
    "    \n",
    "    if all_same([board[i][i] for i in range(n)]):\n",
    "        return board[0][0]\n",
    "    if all_same([board[i][n-i-1] for i in range(n)]):\n",
    "        return board[0][n-1]\n",
    "    \n",
    "    return -1 if any(0 in row for row in board) else 0\n"
   ]
  },
  {
   "cell_type": "code",
   "execution_count": 38,
   "metadata": {},
   "outputs": [
    {
     "data": {
      "text/plain": [
       "1"
      ]
     },
     "execution_count": 38,
     "metadata": {},
     "output_type": "execute_result"
    }
   ],
   "source": [
    "# Test your solution here\n",
    "\n",
    "winner_is_also_1 = [[0, 1, 0],\n",
    "                   [2, 1, 0],\n",
    "                   [2, 1, 1]]\n",
    "\n",
    "check_winner(winner_is_also_1)\n"
   ]
  },
  {
   "cell_type": "code",
   "execution_count": 39,
   "metadata": {},
   "outputs": [],
   "source": [
    "winner_is_2 = [[2, 2, 0],\n",
    "\t[2, 1, 0],\n",
    "\t[2, 1, 1]]\n",
    "               \n",
    "winner_is_1 = [[1, 2, 0],\n",
    "\t[2, 1, 0],\n",
    "\t[2, 1, 1]]\n",
    "               \n",
    "winner_is_also_1 = [[0, 1, 0],\n",
    "\t[2, 1, 0],\n",
    "\t[2, 1, 1]]\n",
    "\n",
    "no_winner = [[1, 2, 0],\n",
    "\t[2, 1, 0],\n",
    "\t[2, 1, 2]]\n",
    "\n",
    "also_no_winner = [[1, 2, 0],\n",
    "\t[2, 1, 0],\n",
    "\t[2, 1, 0]]"
   ]
  },
  {
   "cell_type": "markdown",
   "metadata": {},
   "source": [
    "*Exercise 5:* Write a function that takes a game board, player number, and `(x,y)` coordinates and places \"X\" or \"O\" in the correct location of the game board. Make sure that you only allow filling previously empty locations. Return `True` or `False` to indicate successful placement of \"X\" or \"O\"."
   ]
  },
  {
   "cell_type": "code",
   "execution_count": 20,
   "metadata": {},
   "outputs": [],
   "source": [
    "# Write you solution here\n",
    "\n",
    "def place_move(board, player, x, y):\n",
    "    if board[x][y] == 0:\n",
    "        board[x][y] = player\n",
    "        return True\n",
    "    return False\n"
   ]
  },
  {
   "cell_type": "code",
   "execution_count": 21,
   "metadata": {},
   "outputs": [
    {
     "data": {
      "text/plain": [
       "True"
      ]
     },
     "execution_count": 21,
     "metadata": {},
     "output_type": "execute_result"
    }
   ],
   "source": [
    "# Test your solution here\n",
    "\n",
    "board_0 = [[1, 2, 0],\n",
    "           [2, 1, 0],\n",
    "           [2, 1, 2]]\n",
    "\n",
    "place_move(board_0, 1, 0, 2)\n"
   ]
  },
  {
   "cell_type": "markdown",
   "metadata": {},
   "source": [
    "*Exercise 6:* Modify Exercise 3 to show column and row labels so that players can specify location using \"A2\" or \"C1\"."
   ]
  },
  {
   "cell_type": "code",
   "execution_count": 22,
   "metadata": {},
   "outputs": [],
   "source": [
    "# Write you solution here\n",
    "\n",
    "def board_with_labels(board):\n",
    "    n = len(board)\n",
    "    column_labels = [\"A\", \"B\", \"C\", \"D\", \"E\"][:n]\n",
    "    print(\"   \" + \"   \".join(column_labels))\n",
    "    \n",
    "    for i, row in enumerate(board):\n",
    "        print(\"  \" + \"--- \" * n)\n",
    "        print(f\"{i+1} | \" + \" | \".join(\"X\" if cell == 1 else \"O\" if cell == 2 else \" \" for cell in row) + \" | \")\n",
    "    print(\"  \" + \"--- \" * n)"
   ]
  },
  {
   "cell_type": "code",
   "execution_count": 23,
   "metadata": {},
   "outputs": [
    {
     "name": "stdout",
     "output_type": "stream",
     "text": [
      "   A   B   C\n",
      "  --- --- --- \n",
      "1 | X | O |   | \n",
      "  --- --- --- \n",
      "2 |   | X | O | \n",
      "  --- --- --- \n",
      "3 | O |   | X | \n",
      "  --- --- --- \n"
     ]
    }
   ],
   "source": [
    "# Test your solution here\n",
    "\n",
    "board_0= [[1, 2, 0],\n",
    "          [0, 1, 2],\n",
    "          [2, 0, 1]]\n",
    "\n",
    "board_with_labels(board_0)"
   ]
  },
  {
   "cell_type": "markdown",
   "metadata": {},
   "source": [
    "*Exercise 7:* Write a function that takes a board, player number, and location specified as in exercise 6 and then calls exercise 5 to correctly modify the board.  "
   ]
  },
  {
   "cell_type": "code",
   "execution_count": 24,
   "metadata": {},
   "outputs": [],
   "source": [
    "# Write you solution here\n",
    "\n",
    "def place_move_with_label(board, player, move):\n",
    "    row = int(move[1:]) - 1\n",
    "    col = ord(move[0]) - 65\n",
    "    \n",
    "    return place_move(board, player, row, col)"
   ]
  },
  {
   "cell_type": "code",
   "execution_count": 25,
   "metadata": {},
   "outputs": [
    {
     "name": "stdout",
     "output_type": "stream",
     "text": [
      "   A   B   C\n",
      "  --- --- --- \n",
      "1 | X | O | X | \n",
      "  --- --- --- \n",
      "2 |   | X | O | \n",
      "  --- --- --- \n",
      "3 | O |   | X | \n",
      "  --- --- --- \n"
     ]
    }
   ],
   "source": [
    "# Test your solution here\n",
    "\n",
    "board_0 = [[1, 2, 0],\n",
    "           [0, 1, 2],\n",
    "           [2, 0, 1]]\n",
    "\n",
    "place_move_with_label(board_0, 1, \"C1\")\n",
    "board_with_labels(board_0)\n"
   ]
  },
  {
   "cell_type": "markdown",
   "metadata": {},
   "source": [
    "*Exercise 8:* Write a function is called with a board and player number, takes input from the player using python's `input`, and modifies the board using your function from exercise 7. Note that you should keep asking for input until you have gotten a valid input that results in a valid move."
   ]
  },
  {
   "cell_type": "code",
   "execution_count": 29,
   "metadata": {},
   "outputs": [],
   "source": [
    "# Write you solution here\n",
    "\n",
    "def valid_move(board, player):\n",
    "    n = len(board)\n",
    "    valid_cols = \"ABCDE\"[:n]\n",
    "    while True:\n",
    "        move = input(f\"Player {player}, enter your move: \").strip().upper()\n",
    "        if len(move) == 2 and move[0] in valid_cols and move[1].isdigit():\n",
    "            row =  int(move[1]) - 1\n",
    "            col = valid_cols.index(move[0])\n",
    "            \n",
    "            if 0 <= row < n and place_move_with_label(board, player, move):\n",
    "                board_with_labels(board)\n",
    "                break\n",
    "\n",
    "        print(\"Invalid move. Try again\")\n",
    "        \n"
   ]
  },
  {
   "cell_type": "code",
   "execution_count": 31,
   "metadata": {
    "scrolled": true
   },
   "outputs": [
    {
     "name": "stdout",
     "output_type": "stream",
     "text": [
      "Player 2, enter your move: A1\n",
      "   A   B   C\n",
      "  --- --- --- \n",
      "1 | O |   |   | \n",
      "  --- --- --- \n",
      "2 |   |   |   | \n",
      "  --- --- --- \n",
      "3 |   |   |   | \n",
      "  --- --- --- \n",
      "Player 1, enter your move: b2\n",
      "   A   B   C\n",
      "  --- --- --- \n",
      "1 | O |   |   | \n",
      "  --- --- --- \n",
      "2 |   | X |   | \n",
      "  --- --- --- \n",
      "3 |   |   |   | \n",
      "  --- --- --- \n"
     ]
    }
   ],
   "source": [
    "# Test your solution here\n",
    "\n",
    "board_0 = [[0, 0, 0],\n",
    "           [0, 0, 0],\n",
    "           [0, 0, 0]]\n",
    "\n",
    "valid_move(board_0, 2)\n",
    "valid_move(board_0, 1)\n"
   ]
  },
  {
   "cell_type": "markdown",
   "metadata": {},
   "source": [
    "*Exercise 9:* Use all of the previous exercises to implement a full tic-tac-toe game, where an appropriate board is drawn, 2 players are repeatedly asked for a location coordinates of where they wish to place a mark, and the game status is checked until a player wins or a draw occurs."
   ]
  },
  {
   "cell_type": "code",
   "execution_count": 34,
   "metadata": {},
   "outputs": [],
   "source": [
    "# Write you solution here\n",
    "def play_tic_tac_toe(n):\n",
    "    print(\"Welcome to Tic-Tac-Toe!\\n\")\n",
    "    \n",
    "    board = [[0] * n for _ in range(n)]\n",
    "    board_with_labels(board)\n",
    "    \n",
    "    players = {1: \"X\", 2: \"O\"}\n",
    "    turn = 1\n",
    "    \n",
    "    while True:\n",
    "        valid_move(board, turn)\n",
    "        status = check_winner(board)\n",
    "        \n",
    "        if status in players:\n",
    "            print(f\"Player {status} wins! Yay!\")\n",
    "            break\n",
    "        if status == 0:\n",
    "                  print(\"It's a draw!\")\n",
    "                  break\n",
    "        turn = 3 - turn\n",
    "        "
   ]
  },
  {
   "cell_type": "code",
   "execution_count": 35,
   "metadata": {},
   "outputs": [
    {
     "name": "stdout",
     "output_type": "stream",
     "text": [
      "Welcome to Tic-Tac-Toe!\n",
      "\n",
      "   A   B   C\n",
      "  --- --- --- \n",
      "1 |   |   |   | \n",
      "  --- --- --- \n",
      "2 |   |   |   | \n",
      "  --- --- --- \n",
      "3 |   |   |   | \n",
      "  --- --- --- \n",
      "Player 1, enter your move: a1\n",
      "   A   B   C\n",
      "  --- --- --- \n",
      "1 | X |   |   | \n",
      "  --- --- --- \n",
      "2 |   |   |   | \n",
      "  --- --- --- \n",
      "3 |   |   |   | \n",
      "  --- --- --- \n",
      "Player 2, enter your move: b2\n",
      "   A   B   C\n",
      "  --- --- --- \n",
      "1 | X |   |   | \n",
      "  --- --- --- \n",
      "2 |   | O |   | \n",
      "  --- --- --- \n",
      "3 |   |   |   | \n",
      "  --- --- --- \n",
      "Player 1, enter your move: c3\n",
      "   A   B   C\n",
      "  --- --- --- \n",
      "1 | X |   |   | \n",
      "  --- --- --- \n",
      "2 |   | O |   | \n",
      "  --- --- --- \n",
      "3 |   |   | X | \n",
      "  --- --- --- \n",
      "Player 2, enter your move: c1\n",
      "   A   B   C\n",
      "  --- --- --- \n",
      "1 | X |   | O | \n",
      "  --- --- --- \n",
      "2 |   | O |   | \n",
      "  --- --- --- \n",
      "3 |   |   | X | \n",
      "  --- --- --- \n",
      "Player 1, enter your move: 13\n",
      "Invalid move. Try again\n",
      "Player 1, enter your move: a3\n",
      "   A   B   C\n",
      "  --- --- --- \n",
      "1 | X |   | O | \n",
      "  --- --- --- \n",
      "2 |   | O |   | \n",
      "  --- --- --- \n",
      "3 | X |   | X | \n",
      "  --- --- --- \n",
      "Player 2, enter your move: b3\n",
      "   A   B   C\n",
      "  --- --- --- \n",
      "1 | X |   | O | \n",
      "  --- --- --- \n",
      "2 |   | O |   | \n",
      "  --- --- --- \n",
      "3 | X | O | X | \n",
      "  --- --- --- \n",
      "Player 1, enter your move: a2\n",
      "   A   B   C\n",
      "  --- --- --- \n",
      "1 | X |   | O | \n",
      "  --- --- --- \n",
      "2 | X | O |   | \n",
      "  --- --- --- \n",
      "3 | X | O | X | \n",
      "  --- --- --- \n",
      "Player 1 wins! Yay!\n"
     ]
    }
   ],
   "source": [
    "# Test your solution here\n",
    "\n",
    "play_tic_tac_toe(3)"
   ]
  },
  {
   "cell_type": "markdown",
   "metadata": {},
   "source": [
    "*Exercise 10:* Test that your game works for 5x5 Tic Tac Toe.  "
   ]
  },
  {
   "cell_type": "code",
   "execution_count": 36,
   "metadata": {},
   "outputs": [
    {
     "name": "stdout",
     "output_type": "stream",
     "text": [
      "Welcome to Tic-Tac-Toe!\n",
      "\n",
      "   A   B   C   D   E\n",
      "  --- --- --- --- --- \n",
      "1 |   |   |   |   |   | \n",
      "  --- --- --- --- --- \n",
      "2 |   |   |   |   |   | \n",
      "  --- --- --- --- --- \n",
      "3 |   |   |   |   |   | \n",
      "  --- --- --- --- --- \n",
      "4 |   |   |   |   |   | \n",
      "  --- --- --- --- --- \n",
      "5 |   |   |   |   |   | \n",
      "  --- --- --- --- --- \n",
      "Player 1, enter your move: a2\n",
      "   A   B   C   D   E\n",
      "  --- --- --- --- --- \n",
      "1 |   |   |   |   |   | \n",
      "  --- --- --- --- --- \n",
      "2 | X |   |   |   |   | \n",
      "  --- --- --- --- --- \n",
      "3 |   |   |   |   |   | \n",
      "  --- --- --- --- --- \n",
      "4 |   |   |   |   |   | \n",
      "  --- --- --- --- --- \n",
      "5 |   |   |   |   |   | \n",
      "  --- --- --- --- --- \n",
      "Player 2, enter your move: d4\n",
      "   A   B   C   D   E\n",
      "  --- --- --- --- --- \n",
      "1 |   |   |   |   |   | \n",
      "  --- --- --- --- --- \n",
      "2 | X |   |   |   |   | \n",
      "  --- --- --- --- --- \n",
      "3 |   |   |   |   |   | \n",
      "  --- --- --- --- --- \n",
      "4 |   |   |   | O |   | \n",
      "  --- --- --- --- --- \n",
      "5 |   |   |   |   |   | \n",
      "  --- --- --- --- --- \n",
      "Player 1, enter your move: b5\n",
      "   A   B   C   D   E\n",
      "  --- --- --- --- --- \n",
      "1 |   |   |   |   |   | \n",
      "  --- --- --- --- --- \n",
      "2 | X |   |   |   |   | \n",
      "  --- --- --- --- --- \n",
      "3 |   |   |   |   |   | \n",
      "  --- --- --- --- --- \n",
      "4 |   |   |   | O |   | \n",
      "  --- --- --- --- --- \n",
      "5 |   | X |   |   |   | \n",
      "  --- --- --- --- --- \n",
      "Player 2, enter your move: c4\n",
      "   A   B   C   D   E\n",
      "  --- --- --- --- --- \n",
      "1 |   |   |   |   |   | \n",
      "  --- --- --- --- --- \n",
      "2 | X |   |   |   |   | \n",
      "  --- --- --- --- --- \n",
      "3 |   |   |   |   |   | \n",
      "  --- --- --- --- --- \n",
      "4 |   |   | O | O |   | \n",
      "  --- --- --- --- --- \n",
      "5 |   | X |   |   |   | \n",
      "  --- --- --- --- --- \n",
      "Player 1, enter your move: a3\n",
      "   A   B   C   D   E\n",
      "  --- --- --- --- --- \n",
      "1 |   |   |   |   |   | \n",
      "  --- --- --- --- --- \n",
      "2 | X |   |   |   |   | \n",
      "  --- --- --- --- --- \n",
      "3 | X |   |   |   |   | \n",
      "  --- --- --- --- --- \n",
      "4 |   |   | O | O |   | \n",
      "  --- --- --- --- --- \n",
      "5 |   | X |   |   |   | \n",
      "  --- --- --- --- --- \n",
      "Player 2, enter your move: b4\n",
      "   A   B   C   D   E\n",
      "  --- --- --- --- --- \n",
      "1 |   |   |   |   |   | \n",
      "  --- --- --- --- --- \n",
      "2 | X |   |   |   |   | \n",
      "  --- --- --- --- --- \n",
      "3 | X |   |   |   |   | \n",
      "  --- --- --- --- --- \n",
      "4 |   | O | O | O |   | \n",
      "  --- --- --- --- --- \n",
      "5 |   | X |   |   |   | \n",
      "  --- --- --- --- --- \n",
      "Player 1, enter your move: d2\n",
      "   A   B   C   D   E\n",
      "  --- --- --- --- --- \n",
      "1 |   |   |   |   |   | \n",
      "  --- --- --- --- --- \n",
      "2 | X |   |   | X |   | \n",
      "  --- --- --- --- --- \n",
      "3 | X |   |   |   |   | \n",
      "  --- --- --- --- --- \n",
      "4 |   | O | O | O |   | \n",
      "  --- --- --- --- --- \n",
      "5 |   | X |   |   |   | \n",
      "  --- --- --- --- --- \n",
      "Player 2, enter your move: a4\n",
      "   A   B   C   D   E\n",
      "  --- --- --- --- --- \n",
      "1 |   |   |   |   |   | \n",
      "  --- --- --- --- --- \n",
      "2 | X |   |   | X |   | \n",
      "  --- --- --- --- --- \n",
      "3 | X |   |   |   |   | \n",
      "  --- --- --- --- --- \n",
      "4 | O | O | O | O |   | \n",
      "  --- --- --- --- --- \n",
      "5 |   | X |   |   |   | \n",
      "  --- --- --- --- --- \n",
      "Player 1, enter your move: d5\n",
      "   A   B   C   D   E\n",
      "  --- --- --- --- --- \n",
      "1 |   |   |   |   |   | \n",
      "  --- --- --- --- --- \n",
      "2 | X |   |   | X |   | \n",
      "  --- --- --- --- --- \n",
      "3 | X |   |   |   |   | \n",
      "  --- --- --- --- --- \n",
      "4 | O | O | O | O |   | \n",
      "  --- --- --- --- --- \n",
      "5 |   | X |   | X |   | \n",
      "  --- --- --- --- --- \n",
      "Player 2, enter your move: e4\n",
      "   A   B   C   D   E\n",
      "  --- --- --- --- --- \n",
      "1 |   |   |   |   |   | \n",
      "  --- --- --- --- --- \n",
      "2 | X |   |   | X |   | \n",
      "  --- --- --- --- --- \n",
      "3 | X |   |   |   |   | \n",
      "  --- --- --- --- --- \n",
      "4 | O | O | O | O | O | \n",
      "  --- --- --- --- --- \n",
      "5 |   | X |   | X |   | \n",
      "  --- --- --- --- --- \n",
      "Player 2 wins! Yay!\n"
     ]
    }
   ],
   "source": [
    "# Test your solution here\n",
    "\n",
    "play_tic_tac_toe(5)"
   ]
  },
  {
   "cell_type": "markdown",
   "metadata": {},
   "source": [
    "*Exercise 11:* (Advanced / Challenge) Develop a version of the game where one player is the computer. Note that you don't need to do an extensive seach for the best move. You can have the computer simply protect against loosing and otherwise try to win with straight or diagonal patterns."
   ]
  },
  {
   "cell_type": "code",
   "execution_count": null,
   "metadata": {
    "collapsed": true
   },
   "outputs": [],
   "source": [
    "# Write you solution here"
   ]
  },
  {
   "cell_type": "code",
   "execution_count": null,
   "metadata": {
    "collapsed": true
   },
   "outputs": [],
   "source": [
    "# Test your solution here"
   ]
  }
 ],
 "metadata": {
  "kernelspec": {
   "display_name": "Python 3 (ipykernel)",
   "language": "python",
   "name": "python3"
  },
  "language_info": {
   "codemirror_mode": {
    "name": "ipython",
    "version": 3
   },
   "file_extension": ".py",
   "mimetype": "text/x-python",
   "name": "python",
   "nbconvert_exporter": "python",
   "pygments_lexer": "ipython3",
   "version": "3.12.3"
  }
 },
 "nbformat": 4,
 "nbformat_minor": 2
}
