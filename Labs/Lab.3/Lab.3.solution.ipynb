{
 "cells": [
  {
   "cell_type": "markdown",
   "metadata": {},
   "source": [
    "# Lab 3\n",
    "\n",
    "In this lab we will become familiar with distributions, histograms, and functional programming. Do not use numpy or any other library for this lab.\n",
    "\n",
    "Before that, lets get setup homework submission and submit your previous lab.  \n",
    "\n",
    "## Working on the Command-line.\n",
    "\n",
    "It is important for you to learn to work on the command line and to be familiar with the Unix environment (e.g. Linux, Mac OS, or Windows Linux Subsystem). We'll go over working on the command-line in detail later in the course.\n",
    "\n",
    "You are required to submit your work in this course via GitHub. Today in class, you will setup everything on the command-line.\n",
    "\n",
    "### Command-line basics\n",
    "\n",
    "There is plenty of material online that will help you figure out how to do various tasks on the command line. Commands you may need to know today:\n",
    "\n",
    "* `ls`: lists the contents of the current directory.\n",
    "* `pwd`: prints the path of the current directory.\n",
    "* `cd <directory>`: changes your current directory to the specified directory.\n",
    "* `cd ..`: changes current directory to the previous directory. Basically steps out of the current directory to the directory containing the current directory.\n",
    "* `mkdir <directory>`: create a new directory with the specified name.\n",
    "* `rmdir <directory>`: removes the specified directory. Note it has to be empty.\n",
    "* `rm <filename>`: deletes the specified file.\n",
    "* `mv <filename 1> <filename 2>`: Moves or renames a file.\n",
    "* `cp <filename 1> <filename 2>`: copies an file. If you just provide a path to a directory, it copies the file into that directory with the same filename. If you specifiy a new filename, the copy has a new name. For example `cp File.1.txt File.2.txt` creates a copy of `File.1.txt` with the name `File.2.txt`. Meanwhile `cp File.1.txt my_directory`, where `my_directory` is a directory, creates a copy of `File.1.txt` in directory `my_directory` with the name `File.1.txt`.\n",
    "\n",
    "For reference, here are some example resources I found by googling:\n",
    "\n",
    "* Paths and Wildcards: https://www.warp.dev/terminus/linux-wildcards\n",
    "* Basic commands like copy: https://kb.iu.edu/d/afsk\n",
    "* General introduction to shell: https://github-pages.ucl.ac.uk/RCPSTrainingMaterials/HPCandHTCusingLegion/2_intro_to_shell.html\n",
    "* Manual pages: https://www.geeksforgeeks.org/linux-man-page-entries-different-types/?ref=ml_lbp\n",
    "* Chaining commands: https://www.geeksforgeeks.org/chaining-commands-in-linux/?ref=ml_lbp\n",
    "* Piping: https://www.geeksforgeeks.org/piping-in-unix-or-linux/\n",
    "* Using sed: https://www.geeksforgeeks.org/sed-command-linux-set-2/?ref=ml_lbp\n",
    "* Various Unix commands: https://www.geeksforgeeks.org/linux-commands/?ref=lbp\n",
    "* Cheat sheets:\n",
    "    * https://www.stationx.net/unix-commands-cheat-sheet/\n",
    "    * https://cheatography.com/davechild/cheat-sheets/linux-command-line/\n",
    "    * https://www.theknowledgeacademy.com/blog/unix-commands-cheat-sheet/\n",
    "    \n",
    "These aren't necessarily the best resources. Feel free to search for better ones. Also, don't forget that Unix has built-in manual pages for all of its commands. Just type `man <command>` at the command prompt. Use the space-bar to scroll through the documentation and \"q\" to exit.\n",
    "\n",
    "\n",
    "### Setup and Submission\n",
    "\n",
    "Our course repository is public. The instructions here aim to have you setup a fork of the course repository. Unfortunately because you are forking a public repo, your fork will have to be public also. \n",
    "\n",
    "You should be familiar with git from the first semester of this course. I assume that you all have github accounts and have setup things to be able to [push to github using ssh](https://docs.github.com/en/github/authenticating-to-github/connecting-to-github-with-ssh). The instuctions here lead you to:\n",
    "\n",
    "We'll overview what you will do before going through step by step instructions.\n",
    "\n",
    "1. Setup:\n",
    "    1. Fork the class repository. Some directions in [fork-a-repo](https://docs.github.com/en/github/getting-started-with-github/fork-a-repo).\n",
    "    1. Create a directory on your personal system where you will keep all course materials.\n",
    "    1. In that directory, clone your fork of the repository.\n",
    "    1. Using `git remote`, set the upstream to be the class repo, so you can pull from the class and push to your fork.\n",
    "\n",
    "1. Submission:\n",
    "    1. Copy your solutions into the appropriate directory (e.g. into `Labs/Lab.2/`) and with appropriate filename `Lab.2.solution.ipynb'.\n",
    "    1. Commit / push your solutions.\n",
    " \n",
    "Below are step by step instructions with examples (including example directory naming convention). Feel free to modify things as you see fit. \n",
    "\n",
    "#### Setup\n",
    "You should only need to follow this instructions once. Here are some useful git commands:\n",
    "\n",
    "* Git help: `git help`\n",
    "* Git remote help: `git help remote`\n",
    "* Check remote status: `git remote -v`\n",
    "* Add a remote: `git remote add <stream name> <repo URL>`\n",
    "* Add a remove: `git remote remove <stream name>`\n",
    "\n",
    "Steps:\n",
    "1. In a browser, log into GitHub and navigate to the [course repository](https://github.com/UTA-DataScience/DATA3402.Spring.2025).\n",
    "1. On the top right of the page, press the fork button to create a new fork into your own GitHub account.\n",
    "1. After successful fork, you should find the browser showing your fork of the course repository. Use the green \"Code\" button to copy path to the repo into your the clipboard of your computer.\n",
    "1. Open a shell on your personal computer.\n",
    "1. If you have not done so already, create a new directory/folder where you will keep all course material to navigate to it. For example: `mkdir Data-3402` and `cd Data-3402`.\n",
    "1. Clone your fork of the repository using `git clone` followed by the path you copied into your clipboard. (copy/paste)\n",
    "1. Paste the URL to your fork in the worksheet for the TAs and instructors.\n",
    "1. Now go into the directory of your clone (`cd DATA3402.Spring.2025`).\n",
    "1. Type `git remote -v` to see the current setup for fetch and pull.\n",
    "1. Note the URL you see. This should be the same as what you used for your clone for both push and fetch.\n",
    "1. Delete the origin remote using `git remote remove origin`.\n",
    "1. Add the course repo as your remote using `git remote add origin https://github.com/UTA-DataScience/DATA3402.Spring.2025.git`.\n",
    "1. Change the push to point to your fork. This means you will need the URL to your clone we copied earlier and confirmed as the original origin. The command will look something like: `git remote set-url --push origin  https://github.com/XXXXXX/DATA3402.Spring.2025.git`, where XXXXX is your username on GitHub.\n",
    "1. Note that if you setup everything correctly, you now should be able to do `git pull` to get updates from the course repo, and do `git push` to push your commits into your own fork.\n",
    "\n",
    "### Submission\n",
    "These instructions outline how you submit files. Some useful commands:\n",
    "* To add a file to local repository: `git add <file>`.\n",
    "* To commit all changed files into local repository: `git -a -m \"A message\"`. You need to provide some comment when you commit. \n",
    "* To push the commited files from the local repository to GitHub: `git push`.\n",
    "* To get updates from GitHub: `git pull`.\n",
    "\n",
    "Steps:\n",
    "1. To submit your labs, navigate to your clone of your fork of the course repository. \n",
    "1. Use `git pull` to make sure you have the latest updates. \n",
    "1. Make sure your copy of the lab your are working on is in the appropriate place in this clone. That means if you have the file elsewhere, copy it to the same directory in your clone of your fork. \n",
    "1. Note that in order to avoid future conflicts, you should always name your solution differently than the original file in the class repo. For example if your file is still named `Lab.2.ipynb` you should rename it using the `mv` command: `mv Lab.2.ipynb Lab.2.solution.ipynb`. \n",
    "1. Add and files you wish to submit into the repo. For example: `git add Labs/Lab.2/Lab.2.solution.ipynb`\n",
    "1. Commit any changes: `git commit -a -m \"Lab 2 updates\"`\n",
    "1. Push your changes: `git push`\n",
    "1. Check on github website that your solutions have been properly submitted.\n",
    "\n",
    "Before you leave the session today, make sure your GitHub Repo is setup. If you need to work further on your lab, navigate jupyter to the copy of the lab you just submitted and work there. Once done, repeat the commit and push commands to submit your updated solution. Note that lab 2 is due by midnight Friay 1/31/2025.\n"
   ]
  },
  {
   "cell_type": "markdown",
   "metadata": {},
   "source": [
    "### Uniform Distribution\n",
    "Lets start with generating some fake random data. You can get a random number between 0 and 1 using the python random module as follow:"
   ]
  },
  {
   "cell_type": "code",
   "execution_count": 1,
   "metadata": {},
   "outputs": [
    {
     "name": "stdout",
     "output_type": "stream",
     "text": [
      "The Value of x is 0.38827653728210654\n"
     ]
    }
   ],
   "source": [
    "import random\n",
    "x=random.random()\n",
    "print(\"The Value of x is\", x)"
   ]
  },
  {
   "cell_type": "markdown",
   "metadata": {},
   "source": [
    "Everytime you call random, you will get a new number.\n",
    "\n",
    "*Exercise 1:* Using random, write a function `generate_uniform(N, mymin, mymax)`, that returns a python list containing N random numbers between specified minimum and maximum value. Note that you may want to quickly work out on paper how to turn numbers between 0 and 1 to between other values. "
   ]
  },
  {
   "cell_type": "code",
   "execution_count": 20,
   "metadata": {},
   "outputs": [],
   "source": [
    "# Skeleton\n",
    "def generate_uniform(N,x_min,x_max):\n",
    "    out = []\n",
    "    ### BEGIN SOLUTION\n",
    "    for _ in range(N):\n",
    "        random_value = x_min + (x_max - x_min) * random.random()\n",
    "        out.append(random_value)\n",
    "        \n",
    "    ### END SOLUTION\n",
    "    return out"
   ]
  },
  {
   "cell_type": "code",
   "execution_count": 32,
   "metadata": {},
   "outputs": [
    {
     "name": "stdout",
     "output_type": "stream",
     "text": [
      "Data Type: <class 'list'>\n",
      "Data Length: 1000\n",
      "Type of Data Contents: <class 'float'>\n",
      "Data Minimum: -9.98625578559249\n",
      "Data Maximum: 9.99655900001921\n"
     ]
    }
   ],
   "source": [
    "# Test your solution here\n",
    "data=generate_uniform(1000,-10,10)\n",
    "print (\"Data Type:\", type(data))\n",
    "print (\"Data Length:\", len(data))\n",
    "if len(data)>0: \n",
    "    print (\"Type of Data Contents:\", type(data[0]))\n",
    "    print (\"Data Minimum:\", min(data))\n",
    "    print (\"Data Maximum:\", max(data))"
   ]
  },
  {
   "cell_type": "markdown",
   "metadata": {},
   "source": [
    "*Exercise 2a:* \n",
    "Write a function that computes the mean of values in a list. Recall the equation for the mean of a random variable $\\bf{x}$ computed on a data set of $n$ values $\\{ x_i \\} = \\{x_1, x_2, ..., x_n\\}$  is ${\\bf\\bar{x}} = \\frac{1}{n} \\sum_i^n x_i$."
   ]
  },
  {
   "cell_type": "code",
   "execution_count": 110,
   "metadata": {},
   "outputs": [],
   "source": [
    "# Skeleton\n",
    "def mean(Data):\n",
    "    m=0.\n",
    "    \n",
    "    ### BEGIN SOLUTION\n",
    "    if len(Data) > 0:\n",
    "        m = sum(Data) / len(Data)\n",
    "    \n",
    "    ### END SOLUTION\n",
    "    \n",
    "    return m"
   ]
  },
  {
   "cell_type": "code",
   "execution_count": 81,
   "metadata": {},
   "outputs": [
    {
     "name": "stdout",
     "output_type": "stream",
     "text": [
      "Mean of Data: 9.5\n"
     ]
    }
   ],
   "source": [
    "# Test your solution here\n",
    "print (\"Mean of Data:\", mean(data))"
   ]
  },
  {
   "cell_type": "markdown",
   "metadata": {},
   "source": [
    "*Exercise 2b:* \n",
    "Write a function that computes the variance of values in a list. Recall the equation for the variance of a random variable $\\bf{x}$ computed on a data set of $n$ values $\\{ x_i \\} = \\{x_1, x_2, ..., x_n\\}$  is ${\\bf\\langle x \\rangle} = \\frac{1}{n-1} \\sum_i^n (x_i - {\\bf\\bar{x}})^2$."
   ]
  },
  {
   "cell_type": "code",
   "execution_count": 109,
   "metadata": {},
   "outputs": [],
   "source": [
    "# Skeleton\n",
    "def variance(Data):\n",
    "    m=0.\n",
    "    \n",
    "    ### BEGIN SOLUTION\n",
    "    if len(Data) > 1:\n",
    "        mean = sum(Data) / len(Data)\n",
    "        square_difference = sum((x - mean) ** 2 for x in Data)\n",
    "        m = square_difference / (len(Data) - 1)\n",
    "    \n",
    "    ### END SOLUTION\n",
    "    \n",
    "    return m"
   ]
  },
  {
   "cell_type": "code",
   "execution_count": 79,
   "metadata": {},
   "outputs": [
    {
     "name": "stdout",
     "output_type": "stream",
     "text": [
      "Variance of Data: 35.0\n"
     ]
    }
   ],
   "source": [
    "# Test your solution here\n",
    "print (\"Variance of Data:\", variance(data))"
   ]
  },
  {
   "cell_type": "markdown",
   "metadata": {},
   "source": [
    "## Histogramming"
   ]
  },
  {
   "cell_type": "markdown",
   "metadata": {},
   "source": [
    "*Exercise 3:* Write a function that bins the data so that you can create a histogram. An example of how to implement histogramming is the following logic:\n",
    "\n",
    "* User inputs a list of values `x` and optionally `n_bins` which defaults to 10.\n",
    "* If not supplied, find the minimum and maximum (`x_min`,`x_max`) of the values in x.\n",
    "* Determine the bin size (`bin_size`) by dividing the range of the function by the number of bins.\n",
    "* Create an empty list of zeros of size `n_bins`, call it `hist`.\n",
    "* Loop over the values in `x`\n",
    "    * Loop over the values in `hist` with index `i`:\n",
    "        * If x is between `x_min+i*bin_size` and `x_min+(i+1)*bin_size`, increment `hist[i].` \n",
    "        * For efficiency, try to use continue to goto the next bin and data point.\n",
    "* Return `hist` and the list corresponding of the bin edges (i.e. of `x_min+i*bin_size`).    "
   ]
  },
  {
   "cell_type": "code",
   "execution_count": 54,
   "metadata": {},
   "outputs": [],
   "source": [
    "# Solution\n",
    "import numpy as np\n",
    "def histogram(x,n_bins=10,x_min=None,x_max=None):\n",
    "    ### BEGIN SOLUTION\n",
    "    if x_min==None:\n",
    "        x_min=min(x)\n",
    "    if x_max==None:\n",
    "        x_max=max(x)\n",
    "        \n",
    "    bin_size = (x_max - x_min) / n_bins\n",
    "    bin_edges = np.arange(x_min,x_max,bin_size).tolist()\n",
    "    bin_edges.append(x_max)\n",
    "\n",
    "    hist=[0]*n_bins\n",
    "    \n",
    "    for d in x:\n",
    "        for i,(low_edge,high_edge) in enumerate(zip(bin_edges[:-1],bin_edges[1:])):\n",
    "            if d >= low_edge and d <= high_edge:\n",
    "                hist[i]+=1\n",
    "                break\n",
    "                \n",
    "    ### END SOLUTION\n",
    "\n",
    "    return hist,bin_edges"
   ]
  },
  {
   "cell_type": "code",
   "execution_count": 55,
   "metadata": {},
   "outputs": [
    {
     "name": "stdout",
     "output_type": "stream",
     "text": [
      "[1, 0, 0, 0, 0, 1, 0, 0, 0, 0, 1, 0, 0, 0, 0, 1, 0, 0, 0, 0, 0, 1, 0, 0, 0, 0, 1, 0, 0, 0, 0, 1, 0, 0, 0, 0, 1, 0, 0, 0, 0, 0, 1, 0, 0, 0, 0, 1, 0, 0, 0, 0, 1, 0, 0, 0, 0, 1, 0, 0, 0, 0, 0, 1, 0, 0, 0, 0, 1, 0, 0, 0, 0, 1, 0, 0, 0, 0, 1, 0, 0, 0, 0, 0, 1, 0, 0, 0, 0, 1, 0, 0, 0, 0, 1, 0, 0, 0, 0, 1]\n"
     ]
    }
   ],
   "source": [
    "# Test your solution here\n",
    "h,b=histogram(data,100)\n",
    "print(h)"
   ]
  },
  {
   "cell_type": "markdown",
   "metadata": {},
   "source": [
    "*Exercise 4:* Write a function that uses the histogram function in the previous exercise to create a text-based \"graph\". For example the output could look like the following:\n",
    "```\n",
    "[  0,  1] : ######\n",
    "[  1,  2] : #####\n",
    "[  2,  3] : ######\n",
    "[  3,  4] : ####\n",
    "[  4,  5] : ####\n",
    "[  5,  6] : ######\n",
    "[  6,  7] : #####\n",
    "[  7,  8] : ######\n",
    "[  8,  9] : ####\n",
    "[  9, 10] : #####\n",
    "```\n",
    "\n",
    "Where each line corresponds to a bin and the number of `#`'s are proportional to the value of the data in the bin. "
   ]
  },
  {
   "cell_type": "code",
   "execution_count": 56,
   "metadata": {},
   "outputs": [],
   "source": [
    "# Solution\n",
    "def draw_histogram(x,n_bins,x_min=None,x_max=None,character=\"#\",max_character_per_line=20):\n",
    "    ### BEGIN SOLUTION\n",
    "    hist, bin_edges = histogram(x, n_bins, x_min, x_max)\n",
    "    max_count = max(hist) if hist else 0\n",
    "    \n",
    "    for i, count in enumerate(hist):\n",
    "        scaled_len = int(count / max_count * max_character_per_line) if max_count > 0 else 0\n",
    "        \n",
    "        low_edge = bin_edges[i]\n",
    "        high_edge = bin_edges[i + 1]\n",
    "        \n",
    "        print(f\"[{low_edge}, {high_edge}] : {character * scaled_len}\")\n",
    "        \n",
    "    return hist,bin_edges"
   ]
  },
  {
   "cell_type": "code",
   "execution_count": 57,
   "metadata": {},
   "outputs": [
    {
     "name": "stdout",
     "output_type": "stream",
     "text": [
      "[0.0, 0.95] : ####################\n",
      "[0.95, 1.9] : ####################\n",
      "[1.9, 2.8499999999999996] : ####################\n",
      "[2.8499999999999996, 3.8] : ####################\n",
      "[3.8, 4.75] : ####################\n",
      "[4.75, 5.699999999999999] : ####################\n",
      "[5.699999999999999, 6.6499999999999995] : ####################\n",
      "[6.6499999999999995, 7.6] : ####################\n",
      "[7.6, 8.549999999999999] : ####################\n",
      "[8.549999999999999, 9.5] : ####################\n",
      "[9.5, 10.45] : ####################\n",
      "[10.45, 11.399999999999999] : ####################\n",
      "[11.399999999999999, 12.35] : ####################\n",
      "[12.35, 13.299999999999999] : ####################\n",
      "[13.299999999999999, 14.25] : ####################\n",
      "[14.25, 15.2] : ####################\n",
      "[15.2, 16.15] : ####################\n",
      "[16.15, 17.099999999999998] : ####################\n",
      "[17.099999999999998, 18.05] : ####################\n",
      "[18.05, 19] : ####################\n"
     ]
    }
   ],
   "source": [
    "# Test your solution here\n",
    "h,b=draw_histogram(data,20)"
   ]
  },
  {
   "cell_type": "markdown",
   "metadata": {},
   "source": [
    "## Functional Programming\n",
    "\n",
    "*Exercise 5:* Write a function the applies a booling function (that returns true/false) to every element in data, and return a list of indices of elements where the result was true. Use this function to find the indices of entries greater than 0.5. "
   ]
  },
  {
   "cell_type": "code",
   "execution_count": 1,
   "metadata": {},
   "outputs": [],
   "source": [
    "def where(mylist,myfunc):\n",
    "    out= []\n",
    "    \n",
    "    ### BEGIN SOLUTION\n",
    "    for i in range(len(mylist)):\n",
    "        value = mylist[i]\n",
    "        \n",
    "        if myfunc(value):\n",
    "            out.append(i)\n",
    "    \n",
    "    ### END SOLUTION\n",
    "    \n",
    "    return out"
   ]
  },
  {
   "cell_type": "code",
   "execution_count": 5,
   "metadata": {},
   "outputs": [
    {
     "name": "stdout",
     "output_type": "stream",
     "text": [
      "[3, 4]\n"
     ]
    }
   ],
   "source": [
    "# Test your solution here\n",
    "def greater_than_half(x):\n",
    "    return x > 0.5\n",
    "data = [0.3, 0.5, 0.23, 0.7, 1.4]\n",
    "result = where(data, greater_than_half)\n",
    "print(result)"
   ]
  },
  {
   "cell_type": "markdown",
   "metadata": {},
   "source": [
    "*Exercise 6:* The `inrange(mymin,mymax)` function below returns a function that tests if it's input is between the specified values. Write corresponding functions that test:\n",
    "* Even\n",
    "* Odd\n",
    "* Greater than\n",
    "* Less than\n",
    "* Equal\n",
    "* Divisible by"
   ]
  },
  {
   "cell_type": "code",
   "execution_count": 58,
   "metadata": {},
   "outputs": [
    {
     "ename": "NameError",
     "evalue": "name 'inrange' is not defined",
     "output_type": "error",
     "traceback": [
      "\u001b[0;31m---------------------------------------------------------------------------\u001b[0m",
      "\u001b[0;31mNameError\u001b[0m                                 Traceback (most recent call last)",
      "Cell \u001b[0;32mIn[58], line 7\u001b[0m\n\u001b[1;32m      4\u001b[0m     \u001b[38;5;28;01mreturn\u001b[39;00m testrange\n\u001b[1;32m      6\u001b[0m \u001b[38;5;66;03m# Examples:\u001b[39;00m\n\u001b[0;32m----> 7\u001b[0m F1\u001b[38;5;241m=\u001b[39m\u001b[43minrange\u001b[49m(\u001b[38;5;241m0\u001b[39m,\u001b[38;5;241m10\u001b[39m)\n\u001b[1;32m      8\u001b[0m F2\u001b[38;5;241m=\u001b[39minrange(\u001b[38;5;241m10\u001b[39m,\u001b[38;5;241m20\u001b[39m)\n\u001b[1;32m     10\u001b[0m \u001b[38;5;66;03m# Test of in_range\u001b[39;00m\n",
      "\u001b[0;31mNameError\u001b[0m: name 'inrange' is not defined"
     ]
    }
   ],
   "source": [
    "def in_range(mymin,mymax):\n",
    "    def testrange(x):\n",
    "        return x<mymax and x>=mymin\n",
    "    return testrange\n",
    "\n",
    "# Examples:\n",
    "F1=inrange(0,10)\n",
    "F2=inrange(10,20)\n",
    "\n",
    "# Test of in_range\n",
    "print (F1(0), F1(1), F1(10), F1(15), F1(20))\n",
    "print (F2(0), F2(1), F2(10), F2(15), F2(20))\n",
    "\n",
    "print (\"Number of Entries passing F1:\", len(where(data,F1)))\n",
    "print (\"Number of Entries passing F2:\", len(where(data,F2)))"
   ]
  },
  {
   "cell_type": "code",
   "execution_count": 72,
   "metadata": {},
   "outputs": [],
   "source": [
    "### BEGIN SOLUTION\n",
    "def is_even():\n",
    "    def test_even(x):\n",
    "        return x % 2 == 0\n",
    "    return test_even\n",
    "\n",
    "def is_odd():\n",
    "    def test_odd(x):\n",
    "        return x % 2 != 0\n",
    "    return test_odd\n",
    "\n",
    "def greater_than(threshold):\n",
    "    def test_greater(x):\n",
    "        return x > threshold\n",
    "    return test_greater\n",
    "\n",
    "def less_than(threshold):\n",
    "    def test_less(x):\n",
    "        return x < threshold\n",
    "    return test_less\n",
    "\n",
    "def equal_to(value):\n",
    "    def test_equal(x):\n",
    "        return x == value\n",
    "    return test_equal\n",
    "\n",
    "def divisible_by(divisor):\n",
    "    def test_divisible(x):\n",
    "        return x % divisor == 0\n",
    "    return test_divisible\n",
    "    \n",
    "    \n",
    "### END SOLUTION"
   ]
  },
  {
   "cell_type": "code",
   "execution_count": 90,
   "metadata": {},
   "outputs": [
    {
     "name": "stdout",
     "output_type": "stream",
     "text": [
      "Test is even: [True, False, True, False, True, False, True, False, True, False, True, False, True, False, True, False, True, False, True, False]\n",
      "Total even numbers: 10\n",
      "Test is odd: [True, False, True, False, True, False, True, False, True, False, True, False, True, False, True, False, True, False, True, False]\n",
      "Total odd numbers: 10\n",
      "Test greater than 5: [False, False, False, False, False, False, True, True, True, True, True, True, True, True, True, True, True, True, True, True]\n",
      "Total number greater than 5: 14\n",
      "Test less than 5: [True, True, True, True, True, True, True, True, True, True, False, False, False, False, False, False, False, False, False, False]\n",
      "Total numbers less than 10: 10\n",
      "Test equal to 2: [False, False, True, False, False, False, False, False, False, False, False, False, False, False, False, False, False, False, False, False]\n",
      "Total numbers equal to 2: 1\n",
      "Test divisible by 2: [True, False, True, False, True, False, True, False, True, False, True, False, True, False, True, False, True, False, True, False]\n",
      "Total numbers divisible by 2: 10\n"
     ]
    }
   ],
   "source": [
    "# Test your solution\n",
    "data = list(range(20))\n",
    "even_test = is_even()\n",
    "print(\"Test is even:\", [even_test(x) for x in data])\n",
    "print(\"Total even numbers:\", sum(even_test(x) for x in data))\n",
    "\n",
    "odd_test = is_odd()\n",
    "print(\"Test is odd:\", [even_test(x) for x in data])\n",
    "print(\"Total odd numbers:\", sum(odd_test(x) for x in data))\n",
    "\n",
    "greater = greater_than(5)\n",
    "print(\"Test greater than 5:\", [greater(x) for x in data])\n",
    "print(\"Total number greater than 5:\", sum(greater(x) for x in data))\n",
    "\n",
    "less = less_than(10)\n",
    "print(\"Test less than 5:\", [less(x) for x in data])\n",
    "print(\"Total numbers less than 10:\", sum(less(x) for x in data))\n",
    "\n",
    "equal = equal_to(2)\n",
    "print(\"Test equal to 2:\", [equal(x) for x in data])\n",
    "print(\"Total numbers equal to 2:\", sum(equal(x) for x in data))\n",
    "\n",
    "divisible = divisible_by(2)\n",
    "print(\"Test divisible by 2:\", [divisible(x) for x in data])\n",
    "print(\"Total numbers divisible by 2:\", sum(divisible(x) for x in data))"
   ]
  },
  {
   "cell_type": "markdown",
   "metadata": {},
   "source": [
    "*Exercise 7:* Repeat the previous exercise using `lambda` and the built-in python functions sum and map instead of your solution above. "
   ]
  },
  {
   "cell_type": "code",
   "execution_count": 35,
   "metadata": {},
   "outputs": [
    {
     "name": "stdout",
     "output_type": "stream",
     "text": [
      "Test is even: [True, False, True, False, True, False, True, False, True, False, True, False, True, False, True, False, True, False, True, False]\n",
      "Test is odd: [False, True, False, True, False, True, False, True, False, True, False, True, False, True, False, True, False, True, False, True]\n",
      "Test greater than 5: [False, False, False, False, False, False, True, True, True, True, True, True, True, True, True, True, True, True, True, True]\n",
      "Test less than 10: [True, True, True, True, True, True, True, True, True, True, False, False, False, False, False, False, False, False, False, False]\n",
      "Test equal to 2: [False, False, True, False, False, False, False, False, False, False, False, False, False, False, False, False, False, False, False, False]\n",
      "Test divisible by 3: [True, False, True, False, True, False, True, False, True, False, True, False, True, False, True, False, True, False, True, False]\n"
     ]
    }
   ],
   "source": [
    "### BEGIN SOLUTION\n",
    "data = list(range(20))\n",
    "is_even = lambda x: x % 2 == 0\n",
    "even_results = list(map(is_even, data))\n",
    "print(\"Test is even:\", even_results)\n",
    "\n",
    "is_odd = lambda x: x % 2 != 0\n",
    "odd_results = list(map(is_odd, data))\n",
    "print(\"Test is odd:\", odd_results)\n",
    "\n",
    "greater_than = lambda threshold: lambda x: x > threshold\n",
    "greater = list(map(greater_than(5), data))\n",
    "print(\"Test greater than 5:\", greater)\n",
    "\n",
    "less_than = lambda threshold: lambda x: x < threshold\n",
    "less = list(map(less_than(10), data))\n",
    "print(\"Test less than 10:\", less)\n",
    "\n",
    "equal_to = lambda value: lambda x: x == value\n",
    "equal = list(map(equal_to(2), data))\n",
    "print(\"Test equal to 2:\", equal) \n",
    "\n",
    "divisible_by = lambda divisor: lambda x: x % divisor == 0\n",
    "divisible = list(map(divisible_by(2), data))\n",
    "print(\"Test divisible by 3:\", divisible)\n",
    "\n",
    "            \n",
    "    \n",
    "### END SOLUTION"
   ]
  },
  {
   "cell_type": "markdown",
   "metadata": {},
   "source": [
    "## Monte Carlo\n",
    "\n",
    "*Exercise 7:* Write a \"generator\" function called `generate_function(func,x_min,x_max,N)`, that instead of generating a flat distribution, generates a distribution with functional form coded in `func`. Note that `func` will always be > 0.  \n",
    "\n",
    "Use the test function below and your histogramming functions above to demonstrate that your generator is working properly.\n",
    "\n",
    "Hint: A simple, but slow, solution is to a draw random number `test_x` within the specified range and another number `p` between the `min` and `max` of the function (which you will have to determine). If `p<=function(test_x)`, then place `test_x` on the output. If not, repeat the process, drawing two new numbers. Repeat until you have the specified number of generated numbers, `N`. For this problem, it's OK to determine the `min` and `max` by numerically sampling the function.  "
   ]
  },
  {
   "cell_type": "code",
   "execution_count": 106,
   "metadata": {},
   "outputs": [],
   "source": [
    "import random\n",
    "def generate_function(func,x_min,x_max,N=1000):\n",
    "    out = list()\n",
    "    ### BEGIN SOLUTION\n",
    "    x_values = [x_min + i *(x_max - x_min) / N for i in range(N)]\n",
    "    func_values = [func(x) for x in x_values]\n",
    "    func_max = max(func_values)\n",
    "    func_min = min(func_values)\n",
    "    \n",
    "    while len(out) < N:\n",
    "        test_x = random.uniform(x_min, x_max)\n",
    "        p = random.uniform(func_min, func_max)\n",
    "        if p <= func(test_x):\n",
    "            out.append(test_x)\n",
    "    \n",
    "    ### END SOLUTION\n",
    "    \n",
    "    return out"
   ]
  },
  {
   "cell_type": "code",
   "execution_count": 107,
   "metadata": {},
   "outputs": [
    {
     "name": "stdout",
     "output_type": "stream",
     "text": [
      "[-6.985831016188142, -6.287133535226352] : ##########\n",
      "[-6.287133535226352, -5.588436054264562] : ############\n",
      "[-5.588436054264562, -4.889738573302773] : #######\n",
      "[-4.889738573302773, -4.191041092340983] : #######\n",
      "[-4.191041092340983, -3.4923436113791935] : #####\n",
      "[-3.4923436113791935, -2.793646130417404] : ####\n",
      "[-2.793646130417404, -2.094948649455614] : ###\n",
      "[-2.094948649455614, -1.3962511684938246] : ##\n",
      "[-1.3962511684938246, -0.697553687532035] : #\n",
      "[-0.697553687532035, 0.0011437934297546803] : ##\n",
      "[0.0011437934297546803, 0.6998412743915443] : ####\n",
      "[0.6998412743915443, 1.398538755353334] : #####\n",
      "[1.398538755353334, 2.0972362363151245] : #######\n",
      "[2.0972362363151245, 2.795933717276913] : ########\n",
      "[2.795933717276913, 3.494631198238702] : #########\n",
      "[3.494631198238702, 4.1933286792004925] : ###########\n",
      "[4.1933286792004925, 4.892026160162283] : ##############\n",
      "[4.892026160162283, 5.590723641124072] : ##############\n",
      "[5.590723641124072, 6.2894211220858605] : ##############\n",
      "[6.2894211220858605, 6.988118603047658] : ####################\n",
      "[64, 76, 47, 43, 34, 25, 23, 12, 6, 12, 28, 30, 45, 50, 55, 68, 86, 88, 88, 120]\n"
     ]
    }
   ],
   "source": [
    "# A test function\n",
    "def test_func(x,a=1,b=1):\n",
    "    return abs(a*x+b)\n",
    "\n",
    "gene_data = generate_function(test_func, -7, 7)\n",
    "hist = draw_histogram(gene_data, 20)\n",
    "h, b = histogram(gene_data, 20)\n",
    "print(h)"
   ]
  },
  {
   "cell_type": "markdown",
   "metadata": {},
   "source": [
    "*Exercise 8:* Use your function to generate 1000 numbers that are normal distributed, using the `gaussian` function below. Confirm the mean and variance of the data is close to the mean and variance you specify when building the Gaussian. Histogram the data. "
   ]
  },
  {
   "cell_type": "code",
   "execution_count": 112,
   "metadata": {},
   "outputs": [
    {
     "name": "stdout",
     "output_type": "stream",
     "text": [
      "-0.006493290029783204\n",
      "0.975031890527906\n",
      "[-4.072427597460081, -3.708518136466372] : \n",
      "[-3.708518136466372, -3.3446086754726636] : \n",
      "[-3.3446086754726636, -2.980699214478955] : \n",
      "[-2.980699214478955, -2.6167897534852465] : \n",
      "[-2.6167897534852465, -2.252880292491538] : #\n",
      "[-2.252880292491538, -1.8889708314978293] : ##\n",
      "[-1.8889708314978293, -1.5250613705041207] : ###\n",
      "[-1.5250613705041207, -1.1611519095104121] : ######\n",
      "[-1.1611519095104121, -0.7972424485167036] : ############\n",
      "[-0.7972424485167036, -0.433332987522995] : ##############\n",
      "[-0.433332987522995, -0.0694235265292864] : ####################\n",
      "[-0.0694235265292864, 0.29448593446442217] : #################\n",
      "[0.29448593446442217, 0.6583953954581307] : ###############\n",
      "[0.6583953954581307, 1.0223048564518393] : ############\n",
      "[1.0223048564518393, 1.386214317445548] : ########\n",
      "[1.386214317445548, 1.7501237784392565] : ####\n",
      "[1.7501237784392565, 2.114033239432965] : ##\n",
      "[2.114033239432965, 2.4779427004266736] : \n",
      "[2.4779427004266736, 2.841852161420382] : \n",
      "[2.841852161420382, 3.2057616224140872] : \n"
     ]
    }
   ],
   "source": [
    "import math\n",
    "\n",
    "def gaussian(mean, sigma):\n",
    "    def f(x):\n",
    "        return math.exp(-((x-mean)**2)/(2*sigma**2))/math.sqrt(math.pi*sigma)\n",
    "    return f\n",
    "\n",
    "# Example Instantiation\n",
    "g1=gaussian(0,1)\n",
    "g2=gaussian(10,3)\n",
    "\n",
    "generated_data = generate_function(g1, -5, 5, N=1000)\n",
    "mean = mean(generated_data)\n",
    "variance = variance(generated_data)\n",
    "print(mean)\n",
    "print(variance)\n",
    "hist = draw_histogram(generate_data, 20)"
   ]
  },
  {
   "cell_type": "markdown",
   "metadata": {},
   "source": [
    "*Exercise 9:* Combine your `generate_function`, `where`, and `in_range` functions above to create an integrate function. Use your integrate function to show that approximately 68% of Normal distribution is within one variance."
   ]
  },
  {
   "cell_type": "code",
   "execution_count": 114,
   "metadata": {},
   "outputs": [],
   "source": [
    "def integrate(func, x_min, x_max, n_points=1000):\n",
    "    samples = generate_function(func, -5, 5, N=1000)\n",
    "    within_range = [x for x in samples if x_min <= x <= x_max]\n",
    "    integral = len(within_range) / len(samples)\n",
    "    return integral\n"
   ]
  },
  {
   "cell_type": "code",
   "execution_count": 115,
   "metadata": {
    "scrolled": true
   },
   "outputs": [
    {
     "name": "stdout",
     "output_type": "stream",
     "text": [
      "Proportion within 1 standard deviation: 0.689\n"
     ]
    }
   ],
   "source": [
    "g1 = gaussian(0, 1)\n",
    "integration_result = integrate(g1, -1, 1)\n",
    "print(\"Proportion within 1 standard deviation:\", integration_result)"
   ]
  },
  {
   "cell_type": "code",
   "execution_count": null,
   "metadata": {},
   "outputs": [],
   "source": []
  }
 ],
 "metadata": {
  "kernelspec": {
   "display_name": "Python 3 (ipykernel)",
   "language": "python",
   "name": "python3"
  },
  "language_info": {
   "codemirror_mode": {
    "name": "ipython",
    "version": 3
   },
   "file_extension": ".py",
   "mimetype": "text/x-python",
   "name": "python",
   "nbconvert_exporter": "python",
   "pygments_lexer": "ipython3",
   "version": "3.12.3"
  }
 },
 "nbformat": 4,
 "nbformat_minor": 2
}
