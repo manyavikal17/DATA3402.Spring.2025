{
 "cells": [
  {
   "cell_type": "code",
   "execution_count": 5,
   "id": "65fe6804",
   "metadata": {},
   "outputs": [
    {
     "name": "stdout",
     "output_type": "stream",
     "text": [
      "[('Diamonds', 'Ace'), ('Diamonds', 'King'), ('Diamonds', 'Queen'), ('Diamonds', 'Jack'), ('Diamonds', 2), ('Diamonds', 3), ('Diamonds', 4), ('Diamonds', 5), ('Diamonds', 6), ('Diamonds', 7), ('Diamonds', 8), ('Diamonds', 9), ('Diamonds', 10), ('CLubs', 'Ace'), ('CLubs', 'King'), ('CLubs', 'Queen'), ('CLubs', 'Jack'), ('CLubs', 2), ('CLubs', 3), ('CLubs', 4), ('CLubs', 5), ('CLubs', 6), ('CLubs', 7), ('CLubs', 8), ('CLubs', 9), ('CLubs', 10), ('Hearts', 'Ace'), ('Hearts', 'King'), ('Hearts', 'Queen'), ('Hearts', 'Jack'), ('Hearts', 2), ('Hearts', 3), ('Hearts', 4), ('Hearts', 5), ('Hearts', 6), ('Hearts', 7), ('Hearts', 8), ('Hearts', 9), ('Hearts', 10), ('Spades', 'Ace'), ('Spades', 'King'), ('Spades', 'Queen'), ('Spades', 'Jack'), ('Spades', 2), ('Spades', 3), ('Spades', 4), ('Spades', 5), ('Spades', 6), ('Spades', 7), ('Spades', 8), ('Spades', 9), ('Spades', 10)]\n"
     ]
    }
   ],
   "source": [
    "def make_deck():\n",
    "    suits = ['Diamonds', 'CLubs', 'Hearts', 'Spades']\n",
    "    values = ['Ace', 'King', 'Queen', 'Jack', 2, 3, 4, 5, 6, 7, 8, 9, 10]\n",
    "    deck =[(suit, value) for suit in suits for value in values]\n",
    "    return deck\n",
    "\n",
    "print(make_deck())\n"
   ]
  },
  {
   "cell_type": "code",
   "execution_count": null,
   "id": "6b054dda",
   "metadata": {},
   "outputs": [],
   "source": []
  }
 ],
 "metadata": {
  "kernelspec": {
   "display_name": "Python 3 (ipykernel)",
   "language": "python",
   "name": "python3"
  },
  "language_info": {
   "codemirror_mode": {
    "name": "ipython",
    "version": 3
   },
   "file_extension": ".py",
   "mimetype": "text/x-python",
   "name": "python",
   "nbconvert_exporter": "python",
   "pygments_lexer": "ipython3",
   "version": "3.12.3"
  }
 },
 "nbformat": 4,
 "nbformat_minor": 5
}
